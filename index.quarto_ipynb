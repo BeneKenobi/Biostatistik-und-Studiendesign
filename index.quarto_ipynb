{
  "cells": [
    {
      "cell_type": "markdown",
      "metadata": {},
      "source": [
        "---\n",
        "title: \"Biostatistik und Studiendesign\"\n",
        "---"
      ],
      "id": "ef64ea5f"
    },
    {
      "cell_type": "code",
      "metadata": {},
      "source": [
        "import math\n",
        "import numpy as np\n",
        "import scipy.interpolate as interp\n",
        "from typing import Tuple\n",
        "from collections import namedtuple\n",
        "import plotly.graph_objects as go\n",
        "import plotly.io as pio\n",
        "\n",
        "\n",
        "BENE_COLORS_DARK: Tuple[str, ...] = (\n",
        "    \"#47476b\",\n",
        "    \"#6B5706\",\n",
        "    \"#206260\",\n",
        "    \"#93003a\",\n",
        "    \"#215F80\",\n",
        "    \"#973C2B\",\n",
        "    \"#008381\",\n",
        "    \"#6d3d3d\",\n",
        "    \"#595865\",\n",
        ")\n",
        "pio.templates[\"bene\"] = go.layout.Template(layout=go.Layout(colorway=BENE_COLORS_DARK))\n",
        "pio.templates.default = \"plotly_white+bene\"\n",
        "\n",
        "FourByFourTable = namedtuple(\"FourByFourTable\", [\"a\", \"b\", \"c\", \"d\"])\n",
        "\n",
        "\n",
        "def berechne_ppv(sens: float, spez: float, praev: float) -> float:\n",
        "    return (sens * praev) / (sens * praev + (1 - spez) * (1 - praev))\n",
        "\n",
        "\n",
        "def berechne_npv(sens: float, spez: float, praev: float) -> float:\n",
        "    return (spez * (1 - praev)) / (spez * (1 - praev) + (1 - sens) * praev)\n",
        "\n",
        "\n",
        "def berechne_95_ci(s: float, n: int) -> tuple:\n",
        "    lower = s - 1.96 * math.sqrt(s * (1 - s) / n)\n",
        "    upper = s + 1.96 * math.sqrt(s * (1 - s) / n)\n",
        "    return lower, upper\n",
        "\n",
        "\n",
        "def berechne_se_4x4(four_by_four_table: FourByFourTable) -> float:\n",
        "    return four_by_four_table.a / (four_by_four_table.a + four_by_four_table.c)\n",
        "\n",
        "\n",
        "def berechne_sp_4x4(four_by_four_table: FourByFourTable) -> float:\n",
        "    return four_by_four_table.d / (four_by_four_table.b + four_by_four_table.d)"
      ],
      "id": "22c94beb",
      "execution_count": null,
      "outputs": []
    },
    {
      "cell_type": "markdown",
      "metadata": {},
      "source": [
        "## Aufgabe 2: Glaukom\n",
        "\n",
        "- Prävalenz: 0.9 % = 0.009\n",
        "- Sensitivität: 85 % = 0.85\n",
        "- Spezifität: 90 % = 0.90\n"
      ],
      "id": "2a4dc3d7"
    },
    {
      "cell_type": "code",
      "metadata": {},
      "source": [
        "prevalence = 0.009\n",
        "sensitivity = 0.85\n",
        "specificity = 0.90"
      ],
      "id": "fe744208",
      "execution_count": null,
      "outputs": []
    },
    {
      "cell_type": "markdown",
      "metadata": {},
      "source": [
        "### 2\n"
      ],
      "id": "150f1906"
    },
    {
      "cell_type": "code",
      "metadata": {},
      "source": [
        "ppv_screening = berechne_ppv(sensitivity, specificity, prevalence)\n",
        "ppv_screening"
      ],
      "id": "1afe4cd0",
      "execution_count": null,
      "outputs": []
    },
    {
      "cell_type": "code",
      "metadata": {},
      "source": [
        "npv_screening = berechne_npv(sensitivity, specificity, prevalence)\n",
        "npv_screening"
      ],
      "id": "9117cc76",
      "execution_count": null,
      "outputs": []
    },
    {
      "cell_type": "markdown",
      "metadata": {},
      "source": [
        "### 3\n"
      ],
      "id": "57520204"
    },
    {
      "cell_type": "code",
      "metadata": {},
      "source": [
        "population = 100000\n",
        "true_positives = sensitivity * prevalence * population\n",
        "false_negatives = (1 - sensitivity) * prevalence * population\n",
        "false_positives = (1 - specificity) * (1 - prevalence) * population\n",
        "true_negatives = specificity * (1 - prevalence) * population\n",
        "true_positives, false_negatives, false_positives, true_negatives"
      ],
      "id": "c1af402c",
      "execution_count": null,
      "outputs": []
    },
    {
      "cell_type": "markdown",
      "metadata": {},
      "source": [
        "## Aufgabe 3\n",
        "\n",
        "### 1\n"
      ],
      "id": "ba6d144d"
    },
    {
      "cell_type": "code",
      "metadata": {},
      "source": [
        "# Gegebene Werte aus der Studie (Katz et al., 1993)\n",
        "sensitivity_study = 0.836  # Sensitivität des Suprathreshold Visual Field Test\n",
        "specificity_study = 0.749  # Spezifität des Suprathreshold Visual Field Test\n",
        "\n",
        "# Populationsgröße in der Studie\n",
        "total_population_study = 5341  \n",
        "\n",
        "# Anzahl tatsächlich kranker (Glaukomfälle)\n",
        "true_cases_study = 146  \n",
        "\n",
        "# Anzahl gesunder Personen\n",
        "healthy_cases_study = total_population_study - true_cases_study  \n",
        "\n",
        "# Berechnung der Prävalenz in der Studienpopulation\n",
        "prevalence_study = true_cases_study / total_population_study  \n",
        "\n",
        "# Berechnung des positiven prädiktiven Werts (PPV)\n",
        "ppv_study = berechne_ppv(sensitivity_study, specificity_study, prevalence_study)\n",
        "\n",
        "# Berechnung des negativen prädiktiven Werts (NPV)\n",
        "npv_study = berechne_npv(sensitivity_study, specificity_study, prevalence_study)\n",
        "\n",
        "ppv_study, npv_study"
      ],
      "id": "ff85e14b",
      "execution_count": null,
      "outputs": []
    },
    {
      "cell_type": "markdown",
      "metadata": {},
      "source": [
        "Prävalenz bei beiden Test nacheinander. Prävalenz des zweiten Tests ist PPV des ersten Tests."
      ],
      "id": "7b4d2895"
    },
    {
      "cell_type": "code",
      "metadata": {},
      "source": [
        "ppv_study_after_positive_screening = berechne_ppv(sensitivity_study, specificity_study, ppv_screening)\n",
        "npv_study_after_positive_screening = berechne_npv(sensitivity_study, specificity_study, ppv_screening)\n",
        "ppv_study_after_positive_screening, npv_study_after_positive_screening"
      ],
      "id": "85e44f86",
      "execution_count": null,
      "outputs": []
    },
    {
      "cell_type": "markdown",
      "metadata": {},
      "source": [
        "### 2\n",
        "\n",
        "#### a\n"
      ],
      "id": "76482054"
    },
    {
      "cell_type": "code",
      "metadata": {},
      "source": [
        "1-npv_study"
      ],
      "id": "040a31d4",
      "execution_count": null,
      "outputs": []
    },
    {
      "cell_type": "markdown",
      "metadata": {},
      "source": [
        "#### c\n"
      ],
      "id": "a241863d"
    },
    {
      "cell_type": "code",
      "metadata": {},
      "source": [
        "1-ppv_study"
      ],
      "id": "33997991",
      "execution_count": null,
      "outputs": []
    },
    {
      "cell_type": "markdown",
      "metadata": {},
      "source": [
        "### 3\n"
      ],
      "id": "22c829cb"
    },
    {
      "cell_type": "code",
      "metadata": {},
      "source": [
        "berechne_95_ci(sensitivity_study, total_population_study), berechne_95_ci(specificity_study, total_population_study)"
      ],
      "id": "a2edbc38",
      "execution_count": null,
      "outputs": []
    },
    {
      "cell_type": "markdown",
      "metadata": {},
      "source": [
        "## Aufgabe 4\n",
        "\n",
        "### 2\n"
      ],
      "id": "cf2ff716"
    },
    {
      "cell_type": "code",
      "metadata": {},
      "source": [
        "cutoff_1_44 = FourByFourTable(53, 285, 0, 182)\n",
        "cutoff_1_44_se = berechne_se_4x4(cutoff_1_44)\n",
        "cutoff_1_44_sp = berechne_sp_4x4(cutoff_1_44)\n",
        "cutoff_1_44_se, cutoff_1_44_sp, 1-cutoff_1_44_sp"
      ],
      "id": "ee516853",
      "execution_count": null,
      "outputs": []
    },
    {
      "cell_type": "code",
      "metadata": {},
      "source": [
        "cutoff_1_14 = FourByFourTable(50, 187, 3, 280)\n",
        "cutoff_1_14_se = berechne_se_4x4(cutoff_1_14)\n",
        "cutoff_1_14_sp = berechne_sp_4x4(cutoff_1_14)\n",
        "cutoff_1_14_se, cutoff_1_14_sp, 1-cutoff_1_14_sp"
      ],
      "id": "243f3280",
      "execution_count": null,
      "outputs": []
    },
    {
      "cell_type": "code",
      "metadata": {},
      "source": [
        "cutoff_1_02 = FourByFourTable(43, 112, 10, 355)\n",
        "cutoff_1_02_se = berechne_se_4x4(cutoff_1_02)\n",
        "cutoff_1_02_sp = berechne_sp_4x4(cutoff_1_02)\n",
        "cutoff_1_02_se, cutoff_1_02_sp, 1-cutoff_1_02_sp"
      ],
      "id": "af8f0d91",
      "execution_count": null,
      "outputs": []
    },
    {
      "cell_type": "code",
      "metadata": {},
      "source": [
        "cutoff_0_8 = FourByFourTable(34, 47, 19, 420)\n",
        "cutoff_0_8_se = berechne_se_4x4(cutoff_0_8)\n",
        "cutoff_0_8_sp = berechne_sp_4x4(cutoff_0_8)\n",
        "cutoff_0_8_se, cutoff_0_8_sp, 1-cutoff_0_8_sp"
      ],
      "id": "d29c1607",
      "execution_count": null,
      "outputs": []
    },
    {
      "cell_type": "code",
      "metadata": {},
      "source": [
        "cutoff_0_6 = FourByFourTable(23, 5, 30, 462)\n",
        "cutoff_0_6_se = berechne_se_4x4(cutoff_0_6)\n",
        "cutoff_0_6_sp = berechne_sp_4x4(cutoff_0_6)\n",
        "cutoff_0_6_se, cutoff_0_6_sp, 1-cutoff_0_6_sp"
      ],
      "id": "c7cc93c2",
      "execution_count": null,
      "outputs": []
    },
    {
      "cell_type": "code",
      "metadata": {},
      "source": [
        "specificity = np.array([\n",
        "    0,\n",
        "    1 - cutoff_0_6_sp,\n",
        "    1 - cutoff_0_8_sp,\n",
        "    1 - cutoff_1_02_sp,\n",
        "    1 - cutoff_1_14_sp,\n",
        "    1 - cutoff_1_44_sp,\n",
        "    1,\n",
        "])\n",
        "sensitivity = np.array([\n",
        "    0,\n",
        "    cutoff_0_6_se,\n",
        "    cutoff_0_8_se,\n",
        "    cutoff_1_02_se,\n",
        "    cutoff_1_14_se,\n",
        "    cutoff_1_44_se,\n",
        "    1,\n",
        "])\n",
        "cutoffs = np.array([0, 0.6, 0.8, 1.02, 1.14, 1.44, 2])\n",
        "\n",
        "# Initialize variables\n",
        "best_cutoff = None\n",
        "max_j = -np.inf\n",
        "\n",
        "# Loop through each segment between two cutoffs\n",
        "for i in range(len(cutoffs) - 1):\n",
        "    C1, C2 = cutoffs[i], cutoffs[i + 1]\n",
        "    S1, S2 = sensitivity[i], sensitivity[i + 1]\n",
        "    P1, P2 = specificity[i], specificity[i + 1]\n",
        "    \n",
        "    # Compute the slope for linear interpolation\n",
        "    sensitivity_slope = (S2 - S1) / (C2 - C1)\n",
        "    specificity_slope = (P2 - P1) / (C2 - C1)\n",
        "\n",
        "    # Solve for cutoff that maximizes Youden's J in this segment\n",
        "    # J(c) = (S1 + sensitivity_slope * (c - C1)) + (P1 + specificity_slope * (c - C1)) - 1\n",
        "    # dJ/dc = sensitivity_slope + specificity_slope = 0\n",
        "    if sensitivity_slope + specificity_slope != 0:  # Avoid division by zero\n",
        "        optimal_c = C1 - (S1 + P1 - 1) / (sensitivity_slope + specificity_slope)\n",
        "\n",
        "        # Ensure the found cutoff is within the segment\n",
        "        if C1 <= optimal_c <= C2:\n",
        "            optimal_j = (S1 + sensitivity_slope * (optimal_c - C1)) + \\\n",
        "                        (P1 + specificity_slope * (optimal_c - C1)) - 1\n",
        "            \n",
        "            # Update the best cutoff if this J value is better\n",
        "            if optimal_j > max_j:\n",
        "                max_j = optimal_j\n",
        "                best_cutoff = optimal_c\n",
        "                best_sensitivity = sensitivity_slope\n",
        "                best_specificity = specificity_slope\n",
        "\n",
        "print(f\"Optimal Cutoff (linear): {best_cutoff:.3f}\")"
      ],
      "id": "22de311a",
      "execution_count": null,
      "outputs": []
    },
    {
      "cell_type": "code",
      "metadata": {},
      "source": [
        "roc_x = [\n",
        "    0,\n",
        "    1 - cutoff_0_6_sp,\n",
        "    1 - cutoff_0_8_sp,\n",
        "    1 - cutoff_1_02_sp,\n",
        "    1 - cutoff_1_14_sp,\n",
        "    1 - cutoff_1_44_sp,\n",
        "    1,\n",
        "]\n",
        "roc_y = [\n",
        "    0,\n",
        "    cutoff_0_6_se,\n",
        "    cutoff_0_8_se,\n",
        "    cutoff_1_02_se,\n",
        "    cutoff_1_14_se,\n",
        "    cutoff_1_44_se,\n",
        "    1,\n",
        "]\n",
        "roc_labels = [\"\", \"0.6 mm²\", \"0.8 mm²\", \"1.02 mm²\", \"1.14 mm²\", \"1.44 mm²\", \"\"]\n",
        "\n",
        "fig = go.Figure()\n",
        "fig.add_shape(\n",
        "    type=\"line\", line=dict(dash=\"dash\"), fillcolor=\"black\", x0=0, x1=1, y0=0, y1=1\n",
        ")\n",
        "fig.add_trace(\n",
        "    go.Scatter(\n",
        "        x=roc_x,\n",
        "        y=roc_y,\n",
        "        text=roc_labels,\n",
        "        textposition=\"bottom right\",\n",
        "        mode=\"lines+markers+text\",\n",
        "        fill=\"tozeroy\",\n",
        "        fillcolor=\"rgba(71, 71, 107, 0.2)\",\n",
        "    )\n",
        ")\n",
        "fig.update_layout(\n",
        "    title=\"ROC Curve RNFL Area\",\n",
        "    xaxis_title=\"1 - Spezifität\",\n",
        "    yaxis_title=\"Sensitivität\",\n",
        "    xaxis=dict(range=[0, 1]),\n",
        "    yaxis=dict(range=[0, 1], scaleanchor=\"x\", scaleratio=1),\n",
        ")\n",
        "fig.write_image(\"roc_curve.svg\")\n",
        "fig.show()"
      ],
      "id": "1a2b7c4e",
      "execution_count": null,
      "outputs": []
    },
    {
      "cell_type": "markdown",
      "metadata": {},
      "source": [
        "## Aufgabe 7\n",
        "\n",
        "### 2"
      ],
      "id": "16c41b04"
    },
    {
      "cell_type": "code",
      "metadata": {},
      "source": [
        "a, b, c, d = 30, 366, 56, 352\n",
        "\n",
        "p1 = a / (a + b)\n",
        "p2 = c / (c + d)\n",
        "\n",
        "p1, p2"
      ],
      "id": "b1eb04da",
      "execution_count": null,
      "outputs": []
    },
    {
      "cell_type": "code",
      "metadata": {},
      "source": [
        "p = (a + c) / (a + b + c + d)\n",
        "SE = math.sqrt((p * (1 - p) / (a + b)) + (p * (1 - p) / (c + d)))\n",
        "\n",
        "SE"
      ],
      "id": "fe81d73b",
      "execution_count": null,
      "outputs": []
    },
    {
      "cell_type": "code",
      "metadata": {},
      "source": [
        "T = (p1 - p2) / SE\n",
        "T"
      ],
      "id": "583d0fbc",
      "execution_count": null,
      "outputs": []
    }
  ],
  "metadata": {
    "kernelspec": {
      "display_name": "Python 3",
      "language": "python",
      "name": "python3"
    }
  },
  "nbformat": 4,
  "nbformat_minor": 5
}